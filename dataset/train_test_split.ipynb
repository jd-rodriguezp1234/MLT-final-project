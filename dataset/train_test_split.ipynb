{
 "cells": [
  {
   "cell_type": "code",
   "execution_count": 1,
   "metadata": {},
   "outputs": [],
   "source": [
    "import os\n",
    "import pandas as pd\n",
    "from sklearn.model_selection import train_test_split\n",
    "\n",
    "import pickle"
   ]
  },
  {
   "cell_type": "markdown",
   "metadata": {},
   "source": [
    "# Constants"
   ]
  },
  {
   "cell_type": "code",
   "execution_count": 2,
   "metadata": {},
   "outputs": [],
   "source": [
    "RANDOM_STATE = 42\n",
    "TEST_SIZE = 0.2\n",
    "VAL_SIZE = 0.5\n",
    "DATASET_CSV = \"organs_selected.csv\"\n",
    "DATASET_FOLDER = \"./dataset_obj/\""
   ]
  },
  {
   "cell_type": "markdown",
   "metadata": {},
   "source": [
    "# Load data"
   ]
  },
  {
   "cell_type": "code",
   "execution_count": 3,
   "metadata": {},
   "outputs": [],
   "source": [
    "organs = pd.read_csv(DATASET_CSV)"
   ]
  },
  {
   "cell_type": "code",
   "execution_count": 4,
   "metadata": {},
   "outputs": [],
   "source": [
    "available_latents = [latent.replace(\".pt\", \"\") for latent in os.listdir(DATASET_FOLDER)]"
   ]
  },
  {
   "cell_type": "code",
   "execution_count": 5,
   "metadata": {},
   "outputs": [
    {
     "data": {
      "text/html": [
       "<div>\n",
       "<style scoped>\n",
       "    .dataframe tbody tr th:only-of-type {\n",
       "        vertical-align: middle;\n",
       "    }\n",
       "\n",
       "    .dataframe tbody tr th {\n",
       "        vertical-align: top;\n",
       "    }\n",
       "\n",
       "    .dataframe thead th {\n",
       "        text-align: right;\n",
       "    }\n",
       "</style>\n",
       "<table border=\"1\" class=\"dataframe\">\n",
       "  <thead>\n",
       "    <tr style=\"text-align: right;\">\n",
       "      <th></th>\n",
       "      <th>Name</th>\n",
       "      <th>Category</th>\n",
       "      <th>URL</th>\n",
       "      <th>SubCategory</th>\n",
       "    </tr>\n",
       "  </thead>\n",
       "  <tbody>\n",
       "    <tr>\n",
       "      <th>0</th>\n",
       "      <td>s1273_liver.nii.g_1.stl</td>\n",
       "      <td>liver</td>\n",
       "      <td>https://uni-duisburg-essen.sciebo.de/s/8wGC9bf...</td>\n",
       "      <td>liver</td>\n",
       "    </tr>\n",
       "    <tr>\n",
       "      <th>1</th>\n",
       "      <td>s0001_aorta.nii.g_1.stl</td>\n",
       "      <td>aorta</td>\n",
       "      <td>https://uni-duisburg-essen.sciebo.de/s/8wGC9bf...</td>\n",
       "      <td>aorta</td>\n",
       "    </tr>\n",
       "    <tr>\n",
       "      <th>2</th>\n",
       "      <td>s0001_kidney_right.nii.g_1.stl</td>\n",
       "      <td>kidney right</td>\n",
       "      <td>https://uni-duisburg-essen.sciebo.de/s/8wGC9bf...</td>\n",
       "      <td>kidney</td>\n",
       "    </tr>\n",
       "    <tr>\n",
       "      <th>3</th>\n",
       "      <td>s0001_liver.nii.g_1.stl</td>\n",
       "      <td>liver</td>\n",
       "      <td>https://uni-duisburg-essen.sciebo.de/s/8wGC9bf...</td>\n",
       "      <td>liver</td>\n",
       "    </tr>\n",
       "    <tr>\n",
       "      <th>4</th>\n",
       "      <td>s0004_aorta.nii.g_1.stl</td>\n",
       "      <td>aorta</td>\n",
       "      <td>https://uni-duisburg-essen.sciebo.de/s/8wGC9bf...</td>\n",
       "      <td>aorta</td>\n",
       "    </tr>\n",
       "    <tr>\n",
       "      <th>...</th>\n",
       "      <td>...</td>\n",
       "      <td>...</td>\n",
       "      <td>...</td>\n",
       "      <td>...</td>\n",
       "    </tr>\n",
       "    <tr>\n",
       "      <th>3584</th>\n",
       "      <td>099283_liver.stl</td>\n",
       "      <td>liver</td>\n",
       "      <td>https://uni-duisburg-essen.sciebo.de/s/65svBkR...</td>\n",
       "      <td>liver</td>\n",
       "    </tr>\n",
       "    <tr>\n",
       "      <th>3585</th>\n",
       "      <td>099815_aorta.stl</td>\n",
       "      <td>aorta</td>\n",
       "      <td>https://uni-duisburg-essen.sciebo.de/s/65svBkR...</td>\n",
       "      <td>aorta</td>\n",
       "    </tr>\n",
       "    <tr>\n",
       "      <th>3586</th>\n",
       "      <td>099815_heart.stl</td>\n",
       "      <td>heart</td>\n",
       "      <td>https://uni-duisburg-essen.sciebo.de/s/65svBkR...</td>\n",
       "      <td>heart</td>\n",
       "    </tr>\n",
       "    <tr>\n",
       "      <th>3587</th>\n",
       "      <td>099815_kidneyright.stl</td>\n",
       "      <td>kidney right</td>\n",
       "      <td>https://uni-duisburg-essen.sciebo.de/s/65svBkR...</td>\n",
       "      <td>kidney</td>\n",
       "    </tr>\n",
       "    <tr>\n",
       "      <th>3588</th>\n",
       "      <td>099815_liver.stl</td>\n",
       "      <td>liver</td>\n",
       "      <td>https://uni-duisburg-essen.sciebo.de/s/65svBkR...</td>\n",
       "      <td>liver</td>\n",
       "    </tr>\n",
       "  </tbody>\n",
       "</table>\n",
       "<p>3589 rows × 4 columns</p>\n",
       "</div>"
      ],
      "text/plain": [
       "                                Name      Category  \\\n",
       "0            s1273_liver.nii.g_1.stl         liver   \n",
       "1            s0001_aorta.nii.g_1.stl         aorta   \n",
       "2     s0001_kidney_right.nii.g_1.stl  kidney right   \n",
       "3            s0001_liver.nii.g_1.stl         liver   \n",
       "4            s0004_aorta.nii.g_1.stl         aorta   \n",
       "...                              ...           ...   \n",
       "3584                099283_liver.stl         liver   \n",
       "3585                099815_aorta.stl         aorta   \n",
       "3586                099815_heart.stl        heart    \n",
       "3587          099815_kidneyright.stl  kidney right   \n",
       "3588                099815_liver.stl         liver   \n",
       "\n",
       "                                                    URL SubCategory  \n",
       "0     https://uni-duisburg-essen.sciebo.de/s/8wGC9bf...       liver  \n",
       "1     https://uni-duisburg-essen.sciebo.de/s/8wGC9bf...       aorta  \n",
       "2     https://uni-duisburg-essen.sciebo.de/s/8wGC9bf...      kidney  \n",
       "3     https://uni-duisburg-essen.sciebo.de/s/8wGC9bf...       liver  \n",
       "4     https://uni-duisburg-essen.sciebo.de/s/8wGC9bf...       aorta  \n",
       "...                                                 ...         ...  \n",
       "3584  https://uni-duisburg-essen.sciebo.de/s/65svBkR...       liver  \n",
       "3585  https://uni-duisburg-essen.sciebo.de/s/65svBkR...       aorta  \n",
       "3586  https://uni-duisburg-essen.sciebo.de/s/65svBkR...       heart  \n",
       "3587  https://uni-duisburg-essen.sciebo.de/s/65svBkR...      kidney  \n",
       "3588  https://uni-duisburg-essen.sciebo.de/s/65svBkR...       liver  \n",
       "\n",
       "[3589 rows x 4 columns]"
      ]
     },
     "execution_count": 5,
     "metadata": {},
     "output_type": "execute_result"
    }
   ],
   "source": [
    "organs"
   ]
  },
  {
   "cell_type": "code",
   "execution_count": 6,
   "metadata": {},
   "outputs": [
    {
     "data": {
      "text/plain": [
       "(3589, 3586)"
      ]
     },
     "execution_count": 6,
     "metadata": {},
     "output_type": "execute_result"
    }
   ],
   "source": [
    "len(organs), len(available_latents)"
   ]
  },
  {
   "cell_type": "code",
   "execution_count": 7,
   "metadata": {},
   "outputs": [],
   "source": [
    "organs['ID']  = organs.index.astype(str) + '_' + organs['Name'].apply(lambda x: x.split('.stl')[0])"
   ]
  },
  {
   "cell_type": "code",
   "execution_count": 8,
   "metadata": {},
   "outputs": [
    {
     "data": {
      "text/plain": [
       "(3586, 3586)"
      ]
     },
     "execution_count": 8,
     "metadata": {},
     "output_type": "execute_result"
    }
   ],
   "source": [
    "organs = organs[organs[\"ID\"].isin(available_latents)]\n",
    "len(organs), len(available_latents)"
   ]
  },
  {
   "cell_type": "code",
   "execution_count": 9,
   "metadata": {},
   "outputs": [
    {
     "data": {
      "text/plain": [
       "((2868, 5), (359, 5), (359, 5))"
      ]
     },
     "execution_count": 9,
     "metadata": {},
     "output_type": "execute_result"
    }
   ],
   "source": [
    "organs_train, organs_test = train_test_split(\n",
    "    organs,\n",
    "    test_size=TEST_SIZE,\n",
    "    stratify=organs[\"Category\"]\n",
    ")\n",
    "organs_test, organs_val = train_test_split(\n",
    "    organs_test,\n",
    "    test_size=VAL_SIZE,\n",
    "    stratify=organs_test[\"Category\"]\n",
    ")\n",
    "\n",
    "organs_train.shape, organs_test.shape, organs_val.shape"
   ]
  },
  {
   "cell_type": "code",
   "execution_count": 10,
   "metadata": {},
   "outputs": [],
   "source": [
    "lista_ids_train = list(organs_train.ID.values)\n",
    "lista_ids_test = list(organs_test.ID.values)\n",
    "lista_ids_val = list(organs_val.ID.values)"
   ]
  },
  {
   "cell_type": "code",
   "execution_count": 11,
   "metadata": {},
   "outputs": [],
   "source": [
    "with open('train_organs.pickle', 'wb') as file:\n",
    "    pickle.dump(lista_ids_train, file)\n",
    "\n",
    "with open('test_organs.pickle', 'wb') as file:\n",
    "    pickle.dump(lista_ids_test, file)\n",
    "\n",
    "with open('val_organs.pickle', 'wb') as file:\n",
    "    pickle.dump(lista_ids_val, file)"
   ]
  },
  {
   "cell_type": "code",
   "execution_count": 12,
   "metadata": {},
   "outputs": [],
   "source": [
    "csv_organs = organs[['ID', 'Category']]\n",
    "\n",
    "csv_organs.to_csv('organs_selected_complete.csv', index = False, header=False)"
   ]
  },
  {
   "cell_type": "code",
   "execution_count": null,
   "metadata": {},
   "outputs": [],
   "source": []
  }
 ],
 "metadata": {
  "kernelspec": {
   "display_name": "Python 3 (ipykernel)",
   "language": "python",
   "name": "python3"
  },
  "language_info": {
   "codemirror_mode": {
    "name": "ipython",
    "version": 3
   },
   "file_extension": ".py",
   "mimetype": "text/x-python",
   "name": "python",
   "nbconvert_exporter": "python",
   "pygments_lexer": "ipython3",
   "version": "3.10.12"
  }
 },
 "nbformat": 4,
 "nbformat_minor": 4
}
